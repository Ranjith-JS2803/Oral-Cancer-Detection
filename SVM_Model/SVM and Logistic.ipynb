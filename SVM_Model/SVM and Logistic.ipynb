{
 "cells": [
  {
   "cell_type": "code",
   "execution_count": 1,
   "id": "7b667632",
   "metadata": {},
   "outputs": [],
   "source": [
    "import cv2\n",
    "from matplotlib import pyplot as plt\n",
    "import numpy as np\n",
    "import warnings\n",
    "warnings.filterwarnings(\"ignore\")"
   ]
  },
  {
   "cell_type": "code",
   "execution_count": 2,
   "id": "e14bed3e",
   "metadata": {},
   "outputs": [],
   "source": [
    "import os\n",
    "directory = 'C:\\\\Users\\\\Ranjith\\\\CIT\\\\Adv ML\\\\Project\\\\datasets\\\\OralCancer'\n",
    "non_cancer,cancer = [],[]\n",
    "for filename in os.listdir(directory):\n",
    "    f = os.path.join(directory, filename)\n",
    "    if filename == 'non-cancer':\n",
    "        for i in os.listdir(f):\n",
    "            temp = os.path.join(f, i)\n",
    "            img = cv2.imread(temp,0)\n",
    "            non_cancer.append(cv2.resize(img,(256,256)))\n",
    "    if filename == 'cancer':\n",
    "        for i in os.listdir(f):\n",
    "            temp = os.path.join(f, i)\n",
    "            img = cv2.imread(temp,0)           \n",
    "            cancer.append(cv2.resize(img,(256,256)))"
   ]
  },
  {
   "cell_type": "code",
   "execution_count": 3,
   "id": "d5d9669d",
   "metadata": {},
   "outputs": [],
   "source": [
    "y = np.append(np.zeros(len(non_cancer)),np.ones(len(cancer)))\n",
    "y = y.reshape(-1,1)"
   ]
  },
  {
   "cell_type": "code",
   "execution_count": 4,
   "id": "479d062a",
   "metadata": {},
   "outputs": [],
   "source": [
    "X = non_cancer + cancer"
   ]
  },
  {
   "cell_type": "code",
   "execution_count": 5,
   "id": "0ddd230e",
   "metadata": {},
   "outputs": [],
   "source": [
    "t = X[0]\n",
    "for i in X[1:]:\n",
    "    t = np.concatenate((t,i))"
   ]
  },
  {
   "cell_type": "code",
   "execution_count": 6,
   "id": "de65c451",
   "metadata": {},
   "outputs": [],
   "source": [
    "t = t.reshape(len(X),256,256)"
   ]
  },
  {
   "cell_type": "code",
   "execution_count": 7,
   "id": "1fe6b8bc",
   "metadata": {},
   "outputs": [
    {
     "data": {
      "text/plain": [
       "((131, 256, 256), (131, 1))"
      ]
     },
     "execution_count": 7,
     "metadata": {},
     "output_type": "execute_result"
    }
   ],
   "source": [
    "t.shape , y.shape"
   ]
  },
  {
   "cell_type": "code",
   "execution_count": 8,
   "id": "6fa03ffc",
   "metadata": {},
   "outputs": [],
   "source": [
    "from sklearn import utils\n",
    "t, y = utils.shuffle(t, y)"
   ]
  },
  {
   "cell_type": "code",
   "execution_count": 9,
   "id": "15485ca5",
   "metadata": {},
   "outputs": [],
   "source": [
    "from sklearn.model_selection import train_test_split\n",
    "X = t.reshape(131,-1)\n",
    "X_train,X_test,y_train,y_test = train_test_split(X,y,test_size=0.2,random_state=1)"
   ]
  },
  {
   "cell_type": "markdown",
   "id": "2d93f76f",
   "metadata": {},
   "source": [
    "# Logistic Regression"
   ]
  },
  {
   "cell_type": "code",
   "execution_count": 10,
   "id": "d32e15e4",
   "metadata": {},
   "outputs": [
    {
     "name": "stdout",
     "output_type": "stream",
     "text": [
      "Train Score :  0.9903846153846154\n",
      "Test  Score :  0.7037037037037037\n"
     ]
    }
   ],
   "source": [
    "from sklearn.linear_model import LogisticRegression\n",
    "logreg = LogisticRegression()\n",
    "logreg.fit(X_train,y_train)\n",
    "print('Train Score : ',logreg.score(X_train,y_train))\n",
    "print('Test  Score : ',logreg.score(X_test,y_test))"
   ]
  },
  {
   "cell_type": "code",
   "execution_count": 11,
   "id": "8db5bc8f",
   "metadata": {},
   "outputs": [
    {
     "name": "stdout",
     "output_type": "stream",
     "text": [
      "Best Params :  {'max_iter': 100, 'penalty': 'l1', 'solver': 'saga'}\n",
      "Train Score :  0.9807692307692307\n",
      "Test  Score :  0.7777777777777778\n"
     ]
    }
   ],
   "source": [
    "from sklearn.svm import SVC\n",
    "logreg = LogisticRegression()\n",
    "from sklearn.model_selection import GridSearchCV\n",
    "params = {'penalty' : ['l1', 'l2'],\n",
    "          'solver'  : ['liblinear','saga'],\n",
    "          'max_iter': [100,500,1000]}\n",
    "grid = GridSearchCV(logreg,params,cv=2)\n",
    "grid.fit(X_train,y_train)\n",
    "print('Best Params : ',grid.best_params_)\n",
    "print('Train Score : ',grid.score(X_train,y_train))\n",
    "print('Test  Score : ',grid.score(X_test,y_test))"
   ]
  },
  {
   "cell_type": "markdown",
   "id": "4ed91e56",
   "metadata": {},
   "source": [
    "# Support Vector Machines"
   ]
  },
  {
   "cell_type": "code",
   "execution_count": 12,
   "id": "571e0ac9",
   "metadata": {},
   "outputs": [
    {
     "name": "stdout",
     "output_type": "stream",
     "text": [
      "Train Score :  0.9903846153846154\n",
      "Test  Score :  0.7037037037037037\n"
     ]
    }
   ],
   "source": [
    "from sklearn.svm import SVC\n",
    "svm = SVC(kernel='poly')\n",
    "svm.fit(X_train,y_train.reshape(-1,))\n",
    "print('Train Score : ',svm.score(X_train,y_train))\n",
    "print('Test  Score : ',svm.score(X_test,y_test))\n",
    "\n",
    "from sklearn.preprocessing import MinMaxScaler\n",
    "scaler = MinMaxScaler()\n",
    "X_train = scaler.fit_transform(X_train)\n",
    "X_test = scaler.transform(X_test)\n",
    "\n",
    "train_score,test_score = [],[]\n",
    "from sklearn.model_selection import cross_validate\n",
    "for i in range(5,25,5):\n",
    "    svm = SVC(kernel='poly',degree=i)\n",
    "    res = cross_validate(svm,X_train,y_train,scoring = 'accuracy',return_train_score=True,cv=2)\n",
    "    train_score.append(np.mean(res['train_score']))\n",
    "    test_score.append(np.mean(res['test_score']))"
   ]
  },
  {
   "cell_type": "code",
   "execution_count": null,
   "id": "b577f493",
   "metadata": {},
   "outputs": [
    {
     "data": {
      "text/plain": [
       "[<matplotlib.lines.Line2D at 0x16a37c5cfa0>]"
      ]
     },
     "execution_count": 53,
     "metadata": {},
     "output_type": "execute_result"
    },
    {
     "data": {
      "image/png": "[encoded data removed]",
      "text/plain": [
       "<Figure size 432x288 with 1 Axes>"
      ]
     },
     "metadata": {
      "needs_background": "light"
     },
     "output_type": "display_data"
    }
   ],
   "source": [
    "x = [i for i in range(5,25,5)]\n",
    "from matplotlib import pyplot as plt\n",
    "plt.plot(x,train_score,label=\"Train\")\n",
    "plt.plot(x,test_score,label=\"Test\")"
   ]
  },
  {
   "cell_type": "code",
   "execution_count": null,
   "id": "eb90e77d",
   "metadata": {},
   "outputs": [
    {
     "data": {
      "text/html": [
       "<style>#sk-container-id-7 {color: black;background-color: white;}#sk-container-id-7 pre{padding: 0;}#sk-container-id-7 div.sk-toggleable {background-color: white;}#sk-container-id-7 label.sk-toggleable__label {cursor: pointer;display: block;width: 100%;margin-bottom: 0;padding: 0.3em;box-sizing: border-box;text-align: center;}#sk-container-id-7 label.sk-toggleable__label-arrow:before {content: \"▸\";float: left;margin-right: 0.25em;color: #696969;}#sk-container-id-7 label.sk-toggleable__label-arrow:hover:before {color: black;}#sk-container-id-7 div.sk-estimator:hover label.sk-toggleable__label-arrow:before {color: black;}#sk-container-id-7 div.sk-toggleable__content {max-height: 0;max-width: 0;overflow: hidden;text-align: left;background-color: #f0f8ff;}#sk-container-id-7 div.sk-toggleable__content pre {margin: 0.2em;color: black;border-radius: 0.25em;background-color: #f0f8ff;}#sk-container-id-7 input.sk-toggleable__control:checked~div.sk-toggleable__content {max-height: 200px;max-width: 100%;overflow: auto;}#sk-container-id-7 input.sk-toggleable__control:checked~label.sk-toggleable__label-arrow:before {content: \"▾\";}#sk-container-id-7 div.sk-estimator input.sk-toggleable__control:checked~label.sk-toggleable__label {background-color: #d4ebff;}#sk-container-id-7 div.sk-label input.sk-toggleable__control:checked~label.sk-toggleable__label {background-color: #d4ebff;}#sk-container-id-7 input.sk-hidden--visually {border: 0;clip: rect(1px 1px 1px 1px);clip: rect(1px, 1px, 1px, 1px);height: 1px;margin: -1px;overflow: hidden;padding: 0;position: absolute;width: 1px;}#sk-container-id-7 div.sk-estimator {font-family: monospace;background-color: #f0f8ff;border: 1px dotted black;border-radius: 0.25em;box-sizing: border-box;margin-bottom: 0.5em;}#sk-container-id-7 div.sk-estimator:hover {background-color: #d4ebff;}#sk-container-id-7 div.sk-parallel-item::after {content: \"\";width: 100%;border-bottom: 1px solid gray;flex-grow: 1;}#sk-container-id-7 div.sk-label:hover label.sk-toggleable__label {background-color: #d4ebff;}#sk-container-id-7 div.sk-serial::before {content: \"\";position: absolute;border-left: 1px solid gray;box-sizing: border-box;top: 0;bottom: 0;left: 50%;z-index: 0;}#sk-container-id-7 div.sk-serial {display: flex;flex-direction: column;align-items: center;background-color: white;padding-right: 0.2em;padding-left: 0.2em;position: relative;}#sk-container-id-7 div.sk-item {position: relative;z-index: 1;}#sk-container-id-7 div.sk-parallel {display: flex;align-items: stretch;justify-content: center;background-color: white;position: relative;}#sk-container-id-7 div.sk-item::before, #sk-container-id-7 div.sk-parallel-item::before {content: \"\";position: absolute;border-left: 1px solid gray;box-sizing: border-box;top: 0;bottom: 0;left: 50%;z-index: -1;}#sk-container-id-7 div.sk-parallel-item {display: flex;flex-direction: column;z-index: 1;position: relative;background-color: white;}#sk-container-id-7 div.sk-parallel-item:first-child::after {align-self: flex-end;width: 50%;}#sk-container-id-7 div.sk-parallel-item:last-child::after {align-self: flex-start;width: 50%;}#sk-container-id-7 div.sk-parallel-item:only-child::after {width: 0;}#sk-container-id-7 div.sk-dashed-wrapped {border: 1px dashed gray;margin: 0 0.4em 0.5em 0.4em;box-sizing: border-box;padding-bottom: 0.4em;background-color: white;}#sk-container-id-7 div.sk-label label {font-family: monospace;font-weight: bold;display: inline-block;line-height: 1.2em;}#sk-container-id-7 div.sk-label-container {text-align: center;}#sk-container-id-7 div.sk-container {/* jupyter's `normalize.less` sets `[hidden] { display: none; }` but bootstrap.min.css set `[hidden] { display: none !important; }` so we also need the `!important` here to be able to override the default hidden behavior on the sphinx rendered scikit-learn.org. See: https://github.com/scikit-learn/scikit-learn/issues/21755 */display: inline-block !important;position: relative;}#sk-container-id-7 div.sk-text-repr-fallback {display: none;}</style><div id=\"sk-container-id-7\" class=\"sk-top-container\"><div class=\"sk-text-repr-fallback\"><pre>GridSearchCV(cv=2, estimator=SVC(),\n",
       "             param_grid={&#x27;decision_function_shape&#x27;: [&#x27;ovr&#x27;, &#x27;ovo&#x27;],\n",
       "                         &#x27;kernel&#x27;: [&#x27;linear&#x27;, &#x27;poly&#x27;, &#x27;rbf&#x27;, &#x27;sigmoid&#x27;],\n",
       "                         &#x27;max_iter&#x27;: [100, 200, 300, 400, 500, 600, 700, 800,\n",
       "                                      900]})</pre><b>In a Jupyter environment, please rerun this cell to show the HTML representation or trust the notebook. <br />On GitHub, the HTML representation is unable to render, please try loading this page with nbviewer.org.</b></div><div class=\"sk-container\" hidden><div class=\"sk-item sk-dashed-wrapped\"><div class=\"sk-label-container\"><div class=\"sk-label sk-toggleable\"><input class=\"sk-toggleable__control sk-hidden--visually\" id=\"sk-estimator-id-9\" type=\"checkbox\" ><label for=\"sk-estimator-id-9\" class=\"sk-toggleable__label sk-toggleable__label-arrow\">GridSearchCV</label><div class=\"sk-toggleable__content\"><pre>GridSearchCV(cv=2, estimator=SVC(),\n",
       "             param_grid={&#x27;decision_function_shape&#x27;: [&#x27;ovr&#x27;, &#x27;ovo&#x27;],\n",
       "                         &#x27;kernel&#x27;: [&#x27;linear&#x27;, &#x27;poly&#x27;, &#x27;rbf&#x27;, &#x27;sigmoid&#x27;],\n",
       "                         &#x27;max_iter&#x27;: [100, 200, 300, 400, 500, 600, 700, 800,\n",
       "                                      900]})</pre></div></div></div><div class=\"sk-parallel\"><div class=\"sk-parallel-item\"><div class=\"sk-item\"><div class=\"sk-label-container\"><div class=\"sk-label sk-toggleable\"><input class=\"sk-toggleable__control sk-hidden--visually\" id=\"sk-estimator-id-10\" type=\"checkbox\" ><label for=\"sk-estimator-id-10\" class=\"sk-toggleable__label sk-toggleable__label-arrow\">estimator: SVC</label><div class=\"sk-toggleable__content\"><pre>SVC()</pre></div></div></div><div class=\"sk-serial\"><div class=\"sk-item\"><div class=\"sk-estimator sk-toggleable\"><input class=\"sk-toggleable__control sk-hidden--visually\" id=\"sk-estimator-id-11\" type=\"checkbox\" ><label for=\"sk-estimator-id-11\" class=\"sk-toggleable__label sk-toggleable__label-arrow\">SVC</label><div class=\"sk-toggleable__content\"><pre>SVC()</pre></div></div></div></div></div></div></div></div></div></div>"
      ],
      "text/plain": [
       "GridSearchCV(cv=2, estimator=SVC(),\n",
       "             param_grid={'decision_function_shape': ['ovr', 'ovo'],\n",
       "                         'kernel': ['linear', 'poly', 'rbf', 'sigmoid'],\n",
       "                         'max_iter': [100, 200, 300, 400, 500, 600, 700, 800,\n",
       "                                      900]})"
      ]
     },
     "execution_count": 54,
     "metadata": {},
     "output_type": "execute_result"
    }
   ],
   "source": [
    "from sklearn.svm import SVC\n",
    "svm = SVC()\n",
    "from sklearn.model_selection import GridSearchCV\n",
    "params = {'kernel' : ['linear', 'poly', 'rbf', 'sigmoid'],\n",
    "          'max_iter' : [i for i in range(100,1000,100)],\n",
    "          'decision_function_shape' : ['ovr','ovo']}\n",
    "grid = GridSearchCV(svm,params,cv=2)\n",
    "grid.fit(X_train,y_train)"
   ]
  },
  {
   "cell_type": "code",
   "execution_count": null,
   "id": "9ad1449c",
   "metadata": {},
   "outputs": [
    {
     "data": {
      "text/plain": [
       "{'decision_function_shape': 'ovr', 'kernel': 'rbf', 'max_iter': 100}"
      ]
     },
     "execution_count": 55,
     "metadata": {},
     "output_type": "execute_result"
    }
   ],
   "source": [
    "grid.best_params_"
   ]
  },
  {
   "cell_type": "code",
   "execution_count": null,
   "id": "a9a61219",
   "metadata": {
    "scrolled": true
   },
   "outputs": [
    {
     "name": "stdout",
     "output_type": "stream",
     "text": [
      "Train Score :  0.7884615384615384\n",
      "Test  Score :  0.5925925925925926\n"
     ]
    }
   ],
   "source": [
    "svm = SVC(decision_function_shape = 'ovo' , kernel = 'poly' , degree=10 , max_iter = 100)\n",
    "svm.fit(X_train,y_train)\n",
    "print('Train Score : ',svm.score(X_train,y_train))\n",
    "print('Test  Score : ',svm.score(X_test,y_test))"
   ]
  }
 ],
 "metadata": {
  "kernelspec": {
   "display_name": "Python 3 (ipykernel)",
   "language": "python",
   "name": "python3"
  },
  "language_info": {
   "codemirror_mode": {
    "name": "ipython",
    "version": 3
   },
   "file_extension": ".py",
   "mimetype": "text/x-python",
   "name": "python",
   "nbconvert_exporter": "python",
   "pygments_lexer": "ipython3",
   "version": "3.9.7 (default, Sep 16 2021, 16:59:28) [MSC v.1916 64 bit (AMD64)]"
  },
  "vscode": {
   "interpreter": {
    "hash": "566a674115abffa5b5a383984995656b44d9168c0c7598a23fb107ce1e6f1e4f"
   }
  }
 },
 "nbformat": 4,
 "nbformat_minor": 5
}
